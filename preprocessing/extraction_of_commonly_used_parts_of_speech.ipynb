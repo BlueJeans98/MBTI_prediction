{
  "cells": [
    {
      "cell_type": "code",
      "execution_count": null,
      "metadata": {
        "id": "5AsqQPWItsBI"
      },
      "outputs": [],
      "source": [
        "from konlpy.tag import *\n",
        "from collections import Counter\n",
        "with open('AIhub_100,000_communication.txt', encoding=\"UTF-8\") as f:\n",
        "    content = f.read()\n",
        "okt = Okt()"
      ]
    },
    {
      "cell_type": "code",
      "execution_count": null,
      "metadata": {
        "colab": {
          "base_uri": "https://localhost:8080/"
        },
        "id": "fYU-xfByRMBr",
        "outputId": "31d2a2e7-a8ae-4c35-e2df-29cbfb8a7903"
      },
      "outputs": [],
      "source": [
        "result = list()\n",
        "for i in range(17):\n",
        "    pos = okt.pos(content[i*1000000:(i+1)*1000000], norm=True, stem=True)\n",
        "    result += pos"
      ]
    },
    {
      "cell_type": "code",
      "execution_count": null,
      "metadata": {
        "colab": {
          "base_uri": "https://localhost:8080/"
        },
        "id": "_flbmw7oddzg",
        "outputId": "057782cb-0b9a-4c38-86c3-7015e76ee077"
      },
      "outputs": [],
      "source": [
        "noun_list = []\n",
        "verb_list = []\n",
        "adjective_list = []\n",
        "determiner_list = []\n",
        "adverb_list = []\n",
        "conjuction_list = []\n",
        "exclamation_list = []\n",
        "josa_list = []\n",
        "eomi_list = []\n",
        "koreanParticle_list = []\n",
        "for tagging in result:\n",
        "  (word, tag) = tagging\n",
        "  if tag == 'Adjective':\n",
        "    adjective_list.append(word)\n",
        "  elif tag == 'Adverb':\n",
        "    adverb_list.append(word)\n",
        "  elif tag == 'Noun':\n",
        "    noun_list.append(word)\n",
        "  elif tag == 'Verb':\n",
        "    verb_list.append(word)\n",
        "  elif tag == 'Determiner':\n",
        "    determiner_list.append(word)\n",
        "  elif tag == 'Conjuction':\n",
        "    conjuction_list.append(word)\n",
        "  elif tag == 'Exclamation':\n",
        "    exclamation_list.append(word)\n",
        "  elif tag == 'Josa':\n",
        "    josa_list.append(word)\n",
        "  elif tag == 'Eomi':\n",
        "    eomi_list.append(word)\n",
        "  elif tag == 'KoreanParticle':\n",
        "    koreanParticle_list.append(word)"
      ]
    },
    {
      "cell_type": "code",
      "execution_count": null,
      "metadata": {
        "colab": {
          "base_uri": "https://localhost:8080/"
        },
        "id": "pzy-RdkYjEIE",
        "outputId": "a5e3d2d6-e8fb-4585-a8b8-a3422c6c0561"
      },
      "outputs": [],
      "source": [
        "times_result = dict()\n",
        "count_noun_list = Counter(noun_list).most_common(300)\n",
        "count_verb_list = Counter(verb_list).most_common(300)\n",
        "count_adjective_list = Counter(adjective_list).most_common(300)\n",
        "count_determiner_list = Counter(determiner_list).most_common(300)\n",
        "count_adverb_list = Counter(adverb_list).most_common(300)\n",
        "count_conjuction_list = Counter(conjuction_list).most_common(300)\n",
        "count_exclamation_list = Counter(exclamation_list).most_common(300)\n",
        "count_eomi_list = Counter(eomi_list).most_common(300)\n",
        "count_josa_list = Counter(josa_list).most_common(300)\n",
        "count_koreanParticle_list = Counter(koreanParticle_list).most_common(300)\n",
        "\n",
        "print(count_noun_list)\n",
        "times_result['noun'] = count_noun_list\n",
        "times_result['verb'] = count_verb_list\n",
        "times_result['adjective'] = count_adjective_list\n",
        "times_result['determiner'] = count_determiner_list\n",
        "times_result['adverb'] = count_adverb_list\n",
        "times_result['conjuction'] = count_conjuction_list\n",
        "times_result['exclamation'] = count_exclamation_list\n",
        "times_result['eomi'] = count_eomi_list\n",
        "times_result['josa'] = count_josa_list\n",
        "times_result['koreanParticle'] = count_koreanParticle_list\n",
        "\n",
        "print(times_result)\n",
        "with open('count_list.txt','w',encoding='UTF-8') as f:\n",
        "    for code,name in times_result.items():\n",
        "        f.write(f'{code} : {name}\\n')"
      ]
    }
  ],
  "metadata": {
    "colab": {
      "name": "형태소 분류 및 품사 별 사용횟수.ipynb",
      "provenance": []
    },
    "interpreter": {
      "hash": "0f8a409a227b6bd6067fb922e0bf5d196c11e3dbc44551f00863c01a656d3bdd"
    },
    "kernelspec": {
      "display_name": "Python 3.9.5 64-bit",
      "language": "python",
      "name": "python3"
    },
    "language_info": {
      "codemirror_mode": {
        "name": "ipython",
        "version": 3
      },
      "file_extension": ".py",
      "mimetype": "text/x-python",
      "name": "python",
      "nbconvert_exporter": "python",
      "pygments_lexer": "ipython3",
      "version": "3.9.5"
    }
  },
  "nbformat": 4,
  "nbformat_minor": 0
}
