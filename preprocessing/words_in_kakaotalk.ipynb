{
 "cells": [
  {
   "cell_type": "code",
   "execution_count": 1,
   "metadata": {},
   "outputs": [],
   "source": [
    "import csv\n",
    "import re\n",
    "import pandas as pd"
   ]
  },
  {
   "cell_type": "code",
   "execution_count": 2,
   "metadata": {},
   "outputs": [],
   "source": [
    "f = open('통합 문서1.csv', 'r', encoding='utf-8')\n",
    "rdr = csv.reader(f)\n",
    "df = pd.DataFrame(rdr)[4:][0]"
   ]
  },
  {
   "cell_type": "code",
   "execution_count": 3,
   "metadata": {},
   "outputs": [],
   "source": [
    "def checking(line):\n",
    "    i = 1\n",
    "    name = \"\"\n",
    "    while line[i] != ']':\n",
    "        name += line[i]\n",
    "        i += 1\n",
    "    i += 1\n",
    "    while line[i] != ']':\n",
    "        i += 1\n",
    "    message = line[i+1:]\n",
    "    return name, message"
   ]
  },
  {
   "cell_type": "code",
   "execution_count": 4,
   "metadata": {},
   "outputs": [],
   "source": [
    "def katalk_msg_parse(file_path):\n",
    "    data = dict()\n",
    "    katalk_msg_pattern = \"오\\S [0-9]{1,2}:[0-9]{1,2}\"\n",
    "    for line in file_path:\n",
    "        if re.search(katalk_msg_pattern, line):\n",
    "            name, message = checking(line)\n",
    "            if name in data:\n",
    "                data[name] += message\n",
    "            else:\n",
    "                data[name] = message\n",
    "        else:\n",
    "            continue\n",
    "    result = pd.DataFrame([data])\n",
    "    result.columns = ['user 1', 'user 2']\n",
    "    return result"
   ]
  },
  {
   "cell_type": "code",
   "execution_count": 5,
   "metadata": {},
   "outputs": [],
   "source": [
    "result = katalk_msg_parse(df)"
   ]
  }
 ],
 "metadata": {
  "interpreter": {
   "hash": "4fb426db0f3ee2be9e5ab359abf5d058c2a19de96b4d6eda446b2c3017042fa6"
  },
  "kernelspec": {
   "display_name": "Python 3.8.8 ('base')",
   "language": "python",
   "name": "python3"
  },
  "language_info": {
   "codemirror_mode": {
    "name": "ipython",
    "version": 3
   },
   "file_extension": ".py",
   "mimetype": "text/x-python",
   "name": "python",
   "nbconvert_exporter": "python",
   "pygments_lexer": "ipython3",
   "version": "3.8.8"
  },
  "orig_nbformat": 4
 },
 "nbformat": 4,
 "nbformat_minor": 2
}
